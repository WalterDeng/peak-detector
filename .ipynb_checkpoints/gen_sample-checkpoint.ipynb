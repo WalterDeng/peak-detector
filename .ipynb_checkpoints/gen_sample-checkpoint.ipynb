{
 "cells": [
  {
   "cell_type": "code",
   "execution_count": 14,
   "metadata": {},
   "outputs": [],
   "source": [
    "import numpy as np\n",
    "import matplotlib.pyplot as plt\n",
    "import random"
   ]
  },
  {
   "cell_type": "code",
   "execution_count": 5,
   "metadata": {},
   "outputs": [],
   "source": [
    "CONFIG = {\n",
    "    'total_points' : 300,\n",
    "    'frequency' : 10,\n",
    "}"
   ]
  },
  {
   "cell_type": "code",
   "execution_count": 6,
   "metadata": {},
   "outputs": [],
   "source": [
    "total_points = CONFIG['total_points']\n",
    "freq = CONFIG['frequency']"
   ]
  },
  {
   "cell_type": "code",
   "execution_count": 7,
   "metadata": {},
   "outputs": [],
   "source": [
    "def gen_normal_distribution(x, mu, sigma):\n",
    "    \"\"\"\n",
    "    生成正态分布数据\n",
    "    \"\"\"\n",
    "    pdf = np.exp(-(x - mu)**2 / (2 * sigma**2)) / (sigma * np.sqrt(2 * np.pi))\n",
    "    return values"
   ]
  },
  {
   "cell_type": "code",
   "execution_count": null,
   "metadata": {},
   "outputs": [],
   "source": [
    "def sigma_random_list(freq):\n",
    "    \"\"\"\n",
    "    sigma的随机列表\n",
    "    \"\"\"\n",
    "    return freq * np.concatenate((np.arange(0.1, 4, 0.5), np.arange(\n",
    "        0.1, 1, 0.2), np.arange(1, 2, 0.1), np.arange(1, 3, 0.1)))"
   ]
  },
  {
   "cell_type": "code",
   "execution_count": 21,
   "metadata": {},
   "outputs": [],
   "source": [
    "def gen_one_sample(total_points, freq, overlap_rate, peak_num):\n",
    "    \"\"\"\n",
    "    生成单个样本\n",
    "    \n",
    "    params:\n",
    "        total_points:                 int，采样点数量\n",
    "        freq:                         int，采样频率\n",
    "        overlap_rate:                 float，重叠率，0-1\n",
    "        peak_num:                     int，生成峰数量上限\n",
    "        \n",
    "    return:\n",
    "        sample:                       1D array, 峰重叠数据\n",
    "        y:                            1D array, 训练标签\n",
    "                                            [start1, top1, end1, height1, start2, top2, end2, height2, ...]\n",
    "                        \n",
    "    \"\"\"\n",
    "    sample = np.zeros(total_points)\n",
    "    y = []\n",
    "    \n",
    "    overlap_dis = (1-overlap_rate) * 3\n",
    "    overlap_tag = np.ones(total_points)\n",
    "    \n",
    "    all_loc = np.arange(total_points, dtype=int)\n",
    "    \n",
    "    sigma_list = sigma_random_list(freq)\n",
    "    \n",
    "    for i in range(peak_num):\n",
    "        left_loc = all_loc[overlap_tag == 1]\n",
    "        \n",
    "        # check left location\n",
    "        if left_loc.shape[0] == 0:\n",
    "            break\n",
    "        \n",
    "        # random mu and sigma\n",
    "        mu = random.choice(left_loc)\n",
    "        sigma = random.choice(sigma_list)\n",
    "        \n",
    "        start, end = round(mu-3*sigma), round(mu+3*sigma)\n",
    "        start_i, end_i = max(0, start), min(total_points, end)\n",
    "\n",
    "        tag_start, tag_end = round(mu-overlap_dis*sigma), round(mu+overlap_dis*sigma)\n",
    "        tag_start, tag_end = max(0, tag_start), min(total_points, tag_end)\n",
    "        overlap_tag[tag_start:tag_end] = 0\n",
    "        \n",
    "        x= np.arange(start_i,end_i) \n",
    "        values = gen_normal_distribution(x, mu, sigma)\n",
    "        \n",
    "        sample[start_i:end_i] += values\n",
    "        y.append([start, mu, end, values.max()])\n",
    "        \n",
    "    return sample, np.array(y).reshape(-1)"
   ]
  },
  {
   "cell_type": "code",
   "execution_count": 22,
   "metadata": {},
   "outputs": [
    {
     "ename": "NameError",
     "evalue": "name 'sigma_random_list' is not defined",
     "output_type": "error",
     "traceback": [
      "\u001b[0;31m---------------------------------------------------------------------------\u001b[0m",
      "\u001b[0;31mNameError\u001b[0m                                 Traceback (most recent call last)",
      "\u001b[0;32m<ipython-input-22-6b2dd34ed2f7>\u001b[0m in \u001b[0;36m<module>\u001b[0;34m\u001b[0m\n\u001b[0;32m----> 1\u001b[0;31m \u001b[0mgen_one_sample\u001b[0m\u001b[0;34m(\u001b[0m\u001b[0mtotal_points\u001b[0m\u001b[0;34m,\u001b[0m \u001b[0mfreq\u001b[0m\u001b[0;34m,\u001b[0m \u001b[0;36m0.4\u001b[0m\u001b[0;34m,\u001b[0m \u001b[0;36m20\u001b[0m\u001b[0;34m)\u001b[0m\u001b[0;34m\u001b[0m\u001b[0;34m\u001b[0m\u001b[0m\n\u001b[0m",
      "\u001b[0;32m<ipython-input-21-6c68afa5deb0>\u001b[0m in \u001b[0;36mgen_one_sample\u001b[0;34m(total_points, freq, overlap_rate, peak_num)\u001b[0m\n\u001b[1;32m     23\u001b[0m     \u001b[0mall_loc\u001b[0m \u001b[0;34m=\u001b[0m \u001b[0mnp\u001b[0m\u001b[0;34m.\u001b[0m\u001b[0marange\u001b[0m\u001b[0;34m(\u001b[0m\u001b[0mtotal_points\u001b[0m\u001b[0;34m,\u001b[0m \u001b[0mdtype\u001b[0m\u001b[0;34m=\u001b[0m\u001b[0mint\u001b[0m\u001b[0;34m)\u001b[0m\u001b[0;34m\u001b[0m\u001b[0;34m\u001b[0m\u001b[0m\n\u001b[1;32m     24\u001b[0m \u001b[0;34m\u001b[0m\u001b[0m\n\u001b[0;32m---> 25\u001b[0;31m     \u001b[0msigma_list\u001b[0m \u001b[0;34m=\u001b[0m \u001b[0msigma_random_list\u001b[0m\u001b[0;34m(\u001b[0m\u001b[0mfreq\u001b[0m\u001b[0;34m)\u001b[0m\u001b[0;34m\u001b[0m\u001b[0;34m\u001b[0m\u001b[0m\n\u001b[0m\u001b[1;32m     26\u001b[0m \u001b[0;34m\u001b[0m\u001b[0m\n\u001b[1;32m     27\u001b[0m     \u001b[0;32mfor\u001b[0m \u001b[0mi\u001b[0m \u001b[0;32min\u001b[0m \u001b[0mrange\u001b[0m\u001b[0;34m(\u001b[0m\u001b[0mpeak_num\u001b[0m\u001b[0;34m)\u001b[0m\u001b[0;34m:\u001b[0m\u001b[0;34m\u001b[0m\u001b[0;34m\u001b[0m\u001b[0m\n",
      "\u001b[0;31mNameError\u001b[0m: name 'sigma_random_list' is not defined"
     ]
    }
   ],
   "source": [
    "gen_one_sample(total_points, freq, 0.4, 20)"
   ]
  },
  {
   "cell_type": "code",
   "execution_count": null,
   "metadata": {},
   "outputs": [],
   "source": []
  }
 ],
 "metadata": {
  "kernelspec": {
   "display_name": "Python 3 (ipykernel)",
   "language": "python",
   "name": "python3"
  },
  "language_info": {
   "codemirror_mode": {
    "name": "ipython",
    "version": 3
   },
   "file_extension": ".py",
   "mimetype": "text/x-python",
   "name": "python",
   "nbconvert_exporter": "python",
   "pygments_lexer": "ipython3",
   "version": "3.6.13"
  },
  "toc": {
   "base_numbering": 1,
   "nav_menu": {},
   "number_sections": true,
   "sideBar": true,
   "skip_h1_title": false,
   "title_cell": "Table of Contents",
   "title_sidebar": "Contents",
   "toc_cell": false,
   "toc_position": {},
   "toc_section_display": true,
   "toc_window_display": false
  }
 },
 "nbformat": 4,
 "nbformat_minor": 2
}
