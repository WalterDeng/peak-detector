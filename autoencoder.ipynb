{
 "cells": [
  {
   "cell_type": "code",
   "execution_count": 1,
   "id": "d2cc7605",
   "metadata": {},
   "outputs": [],
   "source": [
    "import os\n",
    "\n",
    "import torch\n",
    "import torchvision\n",
    "from torch import nn\n",
    "from torch.autograd import Variable\n",
    "from torch.utils.data import DataLoader\n",
    "from torchvision import transforms\n",
    "from torchvision.datasets import MNIST\n",
    "from torchvision.utils import save_image\n",
    "import random\n",
    "import numpy as np\n",
    "from sklearn import model_selection\n",
    "import matplotlib.pyplot as plt"
   ]
  },
  {
   "cell_type": "code",
   "execution_count": 2,
   "id": "33ca1c02",
   "metadata": {},
   "outputs": [],
   "source": [
    "class autoencoder(nn.Module):\n",
    "    def __init__(self):\n",
    "        super(autoencoder, self).__init__()\n",
    "        self.encoder = nn.Sequential(\n",
    "            nn.Linear(1000, 128),\n",
    "            nn.ReLU(True),\n",
    "            nn.Linear(128, 64),\n",
    "            nn.ReLU(True),\n",
    "            nn.Linear(64, 12),\n",
    "            nn.ReLU(True),\n",
    "            #                                      nn.Linear(12, 3)\n",
    "        )\n",
    "        self.decoder = nn.Sequential(\n",
    "            #             nn.Linear(3, 12), nn.ReLU(True),\n",
    "            nn.Linear(12, 64),\n",
    "            nn.ReLU(True),\n",
    "            nn.Linear(64, 128),\n",
    "            nn.ReLU(True),\n",
    "            nn.Linear(128, 1000),\n",
    "            #                                      nn.Tanh()\n",
    "        )\n",
    "\n",
    "    def forward(self, x):\n",
    "        x = self.encoder(x)\n",
    "        x = self.decoder(x)\n",
    "        return x\n",
    "    \n",
    "def apply_interpolation(x, y, target_size):\n",
    "    '''\n",
    "    Resizes a chromatogram to a given size/resolution\n",
    "    '''\n",
    "    f = scipy.interpolate.interp1d(x, y)\n",
    "    xnew = np.linspace(x.min(), x.max(), target_size)\n",
    "    ynew = f(xnew)\n",
    "    return xnew, ynew\n",
    "\n",
    "\n",
    "class conv_autoencoder(nn.Module):\n",
    "    def __init__(self):\n",
    "        super(conv_autoencoder, self).__init__()\n",
    "        self.encoder = nn.Sequential(nn.Conv1d(1, 256, 9, stride=2),\n",
    "                                     nn.ReLU(True),\n",
    "                                     nn.Conv1d(256, 128, 9, stride=2),\n",
    "                                     nn.ReLU(True),\n",
    "                                      nn.Conv1d(128, 128, 9, stride=2),\n",
    "                                     nn.ReLU(True),\n",
    "                                     nn.Conv1d(128, 64, 9, stride=2),\n",
    "                                     nn.ReLU(True),\n",
    "                                     nn.Conv1d(64, 64, 9, stride=2),\n",
    "                                     nn.ReLU(True),\n",
    "                                     nn.Conv1d(64, 32, 9, stride=2))\n",
    "        \n",
    "        self.decoder = nn.Sequential(nn.ConvTranspose1d(32, 64, 9, stride=2),\n",
    "                                     nn.ReLU(True),\n",
    "                                     nn.ConvTranspose1d(64, 64, 9, stride=2),\n",
    "                                     nn.ReLU(True),\n",
    "                                     nn.ConvTranspose1d(64, 128, 9, stride=2),\n",
    "                                     nn.ReLU(True),\n",
    "                                     nn.ConvTranspose1d(128, 128, 9, stride=2),\n",
    "                                     nn.ReLU(True),\n",
    "                                     nn.ConvTranspose1d(128, 256, 9, stride=2),\n",
    "                                     nn.ReLU(True),\n",
    "                                     nn.ConvTranspose1d(256, 1, 9, stride=2),\n",
    "                                     nn.ReLU(True))\n",
    "\n",
    "    def forward(self, x):\n",
    "        x = self.encoder(x)\n",
    "        x = self.decoder(x)\n",
    "        return x"
   ]
  },
  {
   "cell_type": "code",
   "execution_count": 3,
   "id": "e4c69114",
   "metadata": {},
   "outputs": [],
   "source": [
    "raw_data = np.load('../../data/simu_chromatography/train_set/raw_data.npy')\n",
    "noise_data = np.load('../../data/simu_chromatography/train_set/noise_data.npy')\n",
    "# white_noise = np.load('../../data/simu_chromatography/white_noise.npy')\n",
    "# drift_noise = np.load('../../data/simu_chromatography/drift_noise.npy')\n",
    "\n",
    "raw_data = torch.from_numpy(raw_data)\n",
    "raw_data = raw_data.to(torch.float32)\n",
    "noise_data = torch.from_numpy(noise_data)\n",
    "noise_data = noise_data.to(torch.float32)\n"
   ]
  },
  {
   "cell_type": "code",
   "execution_count": 4,
   "id": "f45d5af6",
   "metadata": {},
   "outputs": [],
   "source": [
    "num_epochs = 10000\n",
    "batch_size = 32\n",
    "learning_rate = 1e-3\n",
    "point_num = 8185\n",
    "\n",
    "model = conv_autoencoder()\n",
    "criterion = nn.MSELoss()\n",
    "optimizer = torch.optim.Adam(\n",
    "    model.parameters(), lr=learning_rate, weight_decay=0.08)"
   ]
  },
  {
   "cell_type": "code",
   "execution_count": null,
   "id": "b730fea9",
   "metadata": {
    "scrolled": false
   },
   "outputs": [
    {
     "name": "stdout",
     "output_type": "stream",
     "text": [
      "epoch [1/10000], loss:7.3185\n",
      "epoch [101/10000], loss:4.4986\n",
      "epoch [201/10000], loss:5.5873\n"
     ]
    }
   ],
   "source": [
    "sample_code = np.arange(noise_data.shape[0])\n",
    "loss_list = np.zeros((300, 2))\n",
    "\n",
    "for epoch in range(num_epochs):\n",
    "    samples = random.choices(sample_code, k=batch_size)\n",
    "    \n",
    "    # ===================forward=====================\n",
    "    output = model(noise_data[samples, :point_num].view(-1, 1, point_num))\n",
    "    loss = criterion(output, raw_data[samples, :point_num].view(-1, 1, point_num))\n",
    "    \n",
    "    # ===================backward====================\n",
    "    optimizer.zero_grad()\n",
    "    loss.backward()\n",
    "    optimizer.step()\n",
    "    # ===================log========================\n",
    "    if epoch % 100 == 0:\n",
    "        loss_list[int(epoch / 100), 0] = epoch\n",
    "        loss_list[int(epoch / 100), 1] = loss.data\n",
    "        print('epoch [{}/{}], loss:{:.4f}'\n",
    "              .format(epoch + 1, num_epochs, loss.data))\n"
   ]
  },
  {
   "cell_type": "code",
   "execution_count": null,
   "id": "598288c6",
   "metadata": {},
   "outputs": [],
   "source": [
    "y_test_pred = model(X_test[:20, :987].view(-1, 1, 987))"
   ]
  },
  {
   "cell_type": "code",
   "execution_count": null,
   "id": "df817e99",
   "metadata": {},
   "outputs": [],
   "source": [
    "y_test_pred[i, :point_num].detach().numpy().shape"
   ]
  },
  {
   "cell_type": "code",
   "execution_count": null,
   "id": "531a47dd",
   "metadata": {
    "scrolled": false
   },
   "outputs": [],
   "source": [
    "for i in range(10):\n",
    "    plt.figure(dpi=400)\n",
    "    plt.plot(y_test[i, :point_num].numpy(), linewidth=0.5, label='raw_data')\n",
    "    plt.plot(y_test_pred[i, :point_num].detach().numpy().T,  label='denoise_data')\n",
    "    plt.plot(X_test[i, :point_num].numpy(), linewidth=0.5,label='noise_data')\n",
    "    plt.legend()\n",
    "    plt.show()\n"
   ]
  },
  {
   "cell_type": "code",
   "execution_count": null,
   "id": "62a0954b",
   "metadata": {},
   "outputs": [],
   "source": [
    "torch.save(model.state_dict(), './sim_autoencoder.pth')"
   ]
  }
 ],
 "metadata": {
  "kernelspec": {
   "display_name": "pytorch",
   "language": "python",
   "name": "pytorch"
  },
  "language_info": {
   "codemirror_mode": {
    "name": "ipython",
    "version": 3
   },
   "file_extension": ".py",
   "mimetype": "text/x-python",
   "name": "python",
   "nbconvert_exporter": "python",
   "pygments_lexer": "ipython3",
   "version": "3.9.13"
  },
  "toc": {
   "base_numbering": 1,
   "nav_menu": {},
   "number_sections": true,
   "sideBar": true,
   "skip_h1_title": false,
   "title_cell": "Table of Contents",
   "title_sidebar": "Contents",
   "toc_cell": false,
   "toc_position": {},
   "toc_section_display": true,
   "toc_window_display": false
  }
 },
 "nbformat": 4,
 "nbformat_minor": 5
}
